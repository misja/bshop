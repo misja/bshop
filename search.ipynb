{
 "cells": [
  {
   "cell_type": "markdown",
   "metadata": {},
   "source": [
    "# Elasticsearch\n",
    "\n",
    "- fuzzy en match query\n",
    "- suggesties en aanvullingen\n",
    "\n"
   ]
  },
  {
   "cell_type": "code",
   "execution_count": 93,
   "metadata": {},
   "outputs": [],
   "source": [
    "import json\n",
    "from typing import Optional\n",
    "from elasticsearch import Elasticsearch\n"
   ]
  },
  {
   "cell_type": "code",
   "execution_count": 98,
   "metadata": {},
   "outputs": [],
   "source": [
    "# create a client from configuration\n",
    "with open(\"config.json\") as fp:\n",
    "    config = json.load(fp)\n",
    "    es = Elasticsearch(**config)\n"
   ]
  },
  {
   "cell_type": "markdown",
   "metadata": {},
   "source": [
    "Kies hier een naam voor jouw index."
   ]
  },
  {
   "cell_type": "code",
   "execution_count": 92,
   "metadata": {},
   "outputs": [],
   "source": [
    "# the index to use\n",
    "INDEX = \"products\"\n"
   ]
  },
  {
   "cell_type": "markdown",
   "metadata": {},
   "source": [
    "Hulpfuncties voor het uitvoeren van henadelingen met betrekking tot de index."
   ]
  },
  {
   "cell_type": "code",
   "execution_count": 120,
   "metadata": {},
   "outputs": [],
   "source": [
    "def drop_index():\n",
    "    \"\"\"Drop an index\"\"\"\n",
    "    if es.indices.exists(index=INDEX):\n",
    "        es.options(ignore_status=[400, 404]).indices.delete(index=INDEX)\n",
    "\n",
    "\n",
    "def create_index(mappings: dict | None = None) -> None:\n",
    "    \"\"\"Create an index\n",
    "\n",
    "    Will drop an existing index before creation.\n",
    "    \"\"\"\n",
    "    drop_index()\n",
    "    es.indices.create(index=INDEX, mappings=mappings)\n",
    "\n",
    "\n",
    "def get_mapping() -> Optional[dict]:\n",
    "    \"\"\"Get an index mapping\n",
    "\n",
    "    See also: https://www.elastic.co/guide/en/elasticsearch/reference/7.17/indices-get-mapping.html\n",
    "    \"\"\"\n",
    "    if es.indices.exists(index=INDEX):\n",
    "        return es.indices.get_mapping(index=INDEX).raw\n",
    "\n",
    "\n",
    "def put_mapping(body: dict) -> None:\n",
    "    \"\"\"Set an index mapping\n",
    "\n",
    "    See also: https://www.elastic.co/guide/en/elasticsearch/reference/7.17/indices-put-mapping.html\n",
    "    \"\"\"\n",
    "    if es.indices.exists(index=INDEX):\n",
    "        es.indices.put_mapping(index=INDEX, properties=body.get(\"properties\"))\n",
    "\n",
    "def put_settings(body: dict) -> None:\n",
    "        if es.indices.exists(index=INDEX):\n",
    "            es.indices.put_settings(index=INDEX, settings=body.get(\"settings\"))\n",
    "\n",
    "def index_docs(document: dict | list[dict]) -> None:\n",
    "    \"\"\"Index a single or multiple documents\"\"\"\n",
    "    if isinstance(document, dict):\n",
    "        document = [document]\n",
    "\n",
    "    for entry in document:\n",
    "        es.index(index=INDEX, document=entry)\n",
    "\n",
    "    es.indices.refresh(index=INDEX)\n",
    "\n",
    "\n",
    "def get_docs() -> list:\n",
    "    \"\"\"Get all documents\"\"\"\n",
    "    if result := es.search(index=INDEX, query={\"match_all\": {}}):\n",
    "        return [e[\"_source\"] for e in result[\"hits\"][\"hits\"]]\n",
    "    return []\n",
    "\n",
    "\n",
    "def query(body: dict):\n",
    "    \"\"\"Query an index\"\"\"\n",
    "    return es.search(index=INDEX, query=body.get(\"query\"))\n",
    "\n",
    "\n",
    "def products():\n",
    "    \"\"\"Yield product documents\"\"\"\n",
    "\n",
    "    # fields to use\n",
    "    text_fields = [\"merchant\", \"keywords\", \"name\", \"brand\", \"color\", \"material\"]\n",
    "    # fields to join\n",
    "    combine_fields = [\"name\", \"brand\", \"color\"]\n",
    "\n",
    "    # create operations\n",
    "    with open(\"elastic_export.json\") as fp:\n",
    "        # prepared documents\n",
    "        entries = json.load(fp)\n",
    "\n",
    "        for entry in entries:\n",
    "            # remove empty values\n",
    "            current = list(entry[\"fields\"].items())\n",
    "\n",
    "            for k, v in current:\n",
    "                v = [x for x in v if x]\n",
    "                if not v:\n",
    "                    entry[\"fields\"].pop(k)\n",
    "\n",
    "            # prepare document\n",
    "            value = {\n",
    "                \"_id\": entry[\"_id\"],\n",
    "            }\n",
    "            value.update(\n",
    "                **{k: v for k, v in entry[\"fields\"].items() if k in text_fields}\n",
    "            )\n",
    "\n",
    "            # combined values field\n",
    "            combined = []\n",
    "            [combined.extend(v) for k, v in value.items() if k in combine_fields]\n",
    "            value[\"combined\"] = \" \".join(set(combined))\n",
    "\n",
    "            # name as a single field\n",
    "            value[\"name\"] = value[\"name\"][0]\n",
    "\n",
    "            # add document\n",
    "            yield value\n",
    "\n",
    "\n",
    "def ngram(w, n):\n",
    "    \"\"\"Break up words in n consecutive parts\"\"\"\n",
    "    if len(w) < n:\n",
    "        return []\n",
    "    else:\n",
    "        return [w[:n]] + ngram(w[1:], n)\n"
   ]
  },
  {
   "cell_type": "markdown",
   "metadata": {},
   "source": [
    "Maak een index aan en voeg documenten toe."
   ]
  },
  {
   "cell_type": "code",
   "execution_count": 99,
   "metadata": {},
   "outputs": [],
   "source": [
    "create_index()\n",
    "\n",
    "docs = [{\"name\": \"Apple iPhone 11\"}, {\"name\": \"Apple iPhone 5/5S/SE Screenprotector\"}]\n",
    "\n",
    "index_docs(docs)\n"
   ]
  },
  {
   "cell_type": "markdown",
   "metadata": {},
   "source": [
    "Controleer of de documenten zijn toegevoegd."
   ]
  },
  {
   "cell_type": "code",
   "execution_count": 100,
   "metadata": {},
   "outputs": [
    {
     "data": {
      "text/plain": [
       "[{'name': 'Apple iPhone 11'}, {'name': 'Apple iPhone 5/5S/SE Screenprotector'}]"
      ]
     },
     "execution_count": 100,
     "metadata": {},
     "output_type": "execute_result"
    }
   ],
   "source": [
    "get_docs()\n"
   ]
  },
  {
   "cell_type": "markdown",
   "metadata": {},
   "source": [
    "Wat is de type mapping die elasticsearch heeft aangemaakt?"
   ]
  },
  {
   "cell_type": "markdown",
   "metadata": {},
   "source": [
    "## Fuzzy query\n",
    "\n",
    "*Returns documents that contain terms similar to the search term, as measured by a Levenshtein edit distance.*\n",
    "\n",
    "[https://www.elastic.co/guide/en/elasticsearch/reference/current/query-dsl-fuzzy-query.html](https://www.elastic.co/guide/en/elasticsearch/reference/current/query-dsl-fuzzy-query.html)\n",
    "\n",
    "```python\n",
    "{\n",
    "    \"query\": {\n",
    "        \"fuzzy\": {\n",
    "            \"name\": {\n",
    "                \"value\": \"ipone\",\n",
    "                \"fuzziness\": \"AUTO\"\n",
    "            }\n",
    "        }\n",
    "    }\n",
    "}\n",
    "```"
   ]
  },
  {
   "cell_type": "markdown",
   "metadata": {},
   "source": [
    "Een fuzzy query uitvoeren."
   ]
  },
  {
   "cell_type": "code",
   "execution_count": 112,
   "metadata": {},
   "outputs": [
    {
     "data": {
      "text/plain": [
       "ObjectApiResponse({'took': 5, 'timed_out': False, '_shards': {'total': 1, 'successful': 1, 'skipped': 0, 'failed': 0}, 'hits': {'total': {'value': 2, 'relation': 'eq'}, 'max_score': 0.16888736, 'hits': [{'_index': 'products', '_id': 'vas7-IAB0VA9dqYQYDrP', '_score': 0.16888736, '_source': {'name': 'Apple iPhone 11'}}, {'_index': 'products', '_id': 'vqs7-IAB0VA9dqYQYTpJ', '_score': 0.1283544, '_source': {'name': 'Apple iPhone 5/5S/SE Screenprotector'}}]}})"
      ]
     },
     "execution_count": 112,
     "metadata": {},
     "output_type": "execute_result"
    }
   ],
   "source": [
    "body = {\"query\": {\"fuzzy\": {\"name\": {\"value\": \"ipone\", \"fuzziness\": \"AUTO\"}}}}\n",
    "\n",
    "query(body)\n"
   ]
  },
  {
   "cell_type": "markdown",
   "metadata": {},
   "source": [
    "## Match query\n",
    "\n",
    "[https://www.elastic.co/guide/en/elasticsearch/reference/current/query-dsl-match-query.html](https://www.elastic.co/guide/en/elasticsearch/reference/current/query-dsl-match-query.html)\n",
    "\n",
    "*Returns documents that match a provided text, number, date or boolean value. The provided text is analyzed before matching. The match query is the standard query for performing a full-text search, including options for fuzzy matching.*\n",
    "\n",
    "```python\n",
    "{\n",
    "    \"query\": {\n",
    "        \"match\": {\n",
    "            \"name\": {\n",
    "                \"query\": \"this is a test\"\n",
    "            }\n",
    "        }\n",
    "    }\n",
    "}\n",
    "```\n",
    "\n",
    "Match query met fuzziness\n",
    "\n",
    "```python\n",
    "{\n",
    "    \"query\": {\n",
    "        \"match\": {\n",
    "            \"name\": {\n",
    "                \"query\": \"this is a testt\",\n",
    "                \"fuzziness\": \"AUTO\"\n",
    "            }\n",
    "        }\n",
    "    }\n",
    "}\n",
    "```\n",
    "\n",
    "Zie ook [How to Handle Typos in Elasticsearch Using Fuzzy Query](https://towardsdatascience.com/how-to-handle-typos-in-elasticsearch-using-fuzzy-query-8d3843a8cff3)."
   ]
  },
  {
   "cell_type": "markdown",
   "metadata": {},
   "source": [
    "Voer een match query uit, met fuzziness.\n"
   ]
  },
  {
   "cell_type": "code",
   "execution_count": 113,
   "metadata": {},
   "outputs": [],
   "source": [
    "body = {...}\n"
   ]
  },
  {
   "cell_type": "markdown",
   "metadata": {},
   "source": [
    "## Autocomplete\n",
    "\n",
    "\n",
    "-   [Implementing auto-complete functionality in Elasticsearch - Part I: Prefix queries](https://www.learningstuffwithankit.dev/implementing-auto-complete-functionality-in-elasticsearch-part-i-prefix-queries)\n",
    "\n",
    "-   [Implementing auto-complete functionality in Elasticsearch - Part II: n-grams](https://www.learningstuffwithankit.dev/implementing-auto-complete-functionality-in-elasticsearch-part-ii-n-grams)\n"
   ]
  },
  {
   "cell_type": "code",
   "execution_count": 116,
   "metadata": {},
   "outputs": [],
   "source": [
    "settings = {\n",
    "    \"settings\": {\n",
    "        \"analysis\": {\n",
    "            \"analyzer\": {\n",
    "                \"namegrams\": {\n",
    "                    \"type\": \"custom\",\n",
    "                    \"tokenizer\": \"keyword\",\n",
    "                    \"filter\": [\n",
    "                        \"ngrams_filter\"\n",
    "                    ]\n",
    "                }\n",
    "            },\n",
    "            \"filter\": {\n",
    "                \"ngrams_filter\": {\n",
    "                    \"type\": \"ngram\",\n",
    "                    \"min_gram\": 3,\n",
    "                    \"max_gram\": 8\n",
    "                }\n",
    "            }\n",
    "        }\n",
    "    }\n",
    "}\n",
    "\n",
    "mappings = {\n",
    "    \"properties\": {\n",
    "        \"name\": {\n",
    "            \"type\": \"string\",\n",
    "            \"analyzer\": \"namegrams\"\n",
    "        }\n",
    "    }\n",
    "}\n"
   ]
  },
  {
   "cell_type": "code",
   "execution_count": 123,
   "metadata": {},
   "outputs": [],
   "source": [
    "#put_settings(settings)\n",
    "#put_mapping(mappings)"
   ]
  }
 ],
 "metadata": {
  "interpreter": {
   "hash": "71263afc1aaf245305c02dade3fb6200fc1eb098d635f5cbca11bda23eb7df98"
  },
  "kernelspec": {
   "display_name": "Python 3.10.4 ('elastic')",
   "language": "python",
   "name": "python3"
  },
  "language_info": {
   "codemirror_mode": {
    "name": "ipython",
    "version": 3
   },
   "file_extension": ".py",
   "mimetype": "text/x-python",
   "name": "python",
   "nbconvert_exporter": "python",
   "pygments_lexer": "ipython3",
   "version": "3.10.4"
  },
  "orig_nbformat": 4
 },
 "nbformat": 4,
 "nbformat_minor": 2
}
