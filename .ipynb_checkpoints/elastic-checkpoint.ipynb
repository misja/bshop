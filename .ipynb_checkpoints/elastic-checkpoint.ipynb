{
 "cells": [
  {
   "cell_type": "markdown",
   "id": "d189083d-8217-47f8-ad16-6f2af8b82f40",
   "metadata": {
    "slideshow": {
     "slide_type": "slide"
    },
    "tags": []
   },
   "source": [
    "# Elasticsearch"
   ]
  },
  {
   "cell_type": "markdown",
   "id": "6a8646d4-a542-4422-8267-e551f157771c",
   "metadata": {
    "slideshow": {
     "slide_type": "slide"
    },
    "tags": []
   },
   "source": [
    "![Elasticsearch](images/Elasticsearch_logo.png)"
   ]
  },
  {
   "cell_type": "markdown",
   "id": "8cc21825-3fb3-4a54-a163-ee0ecec690dd",
   "metadata": {
    "slideshow": {
     "slide_type": "fragment"
    },
    "tags": []
   },
   "source": [
    "> Elasticsearch is a distributed, free and open search and analytics engine for all types of data, including textual, numerical, geospatial, structured, and unstructured. Elasticsearch is built on Apache Lucene [...]"
   ]
  },
  {
   "cell_type": "markdown",
   "id": "8ba60a04-6b4b-4b98-a612-f0f55d6224e7",
   "metadata": {
    "slideshow": {
     "slide_type": "subslide"
    },
    "tags": []
   },
   "source": [
    ">  Elasticsearch is the central component of the Elastic Stack, a set of free and open tools for data ingestion, enrichment, storage, analysis, and visualization. Commonly referred to as the ELK Stack (after Elasticsearch, Logstash, and Kibana), the Elastic Stack now includes a rich collection of lightweight shipping agents known as Beats for sending data to Elasticsearch."
   ]
  },
  {
   "cell_type": "markdown",
   "id": "303a3763-6d37-4402-a414-1f4aa68ca63c",
   "metadata": {
    "slideshow": {
     "slide_type": "subslide"
    },
    "tags": []
   },
   "source": [
    "![Apache Lucene](images/Apache_Lucene_logo.png)"
   ]
  },
  {
   "cell_type": "markdown",
   "id": "fc20729a-dd50-4316-a5e2-f5dff92bbfff",
   "metadata": {
    "slideshow": {
     "slide_type": "fragment"
    },
    "tags": []
   },
   "source": [
    "> Lucene Core is a Java library providing powerful indexing and search features, as well as spellchecking, hit highlighting and advanced analysis/tokenization capabilities."
   ]
  },
  {
   "cell_type": "markdown",
   "id": "44824fb5-3107-4924-88d0-483ae554f260",
   "metadata": {
    "slideshow": {
     "slide_type": "subslide"
    },
    "tags": []
   },
   "source": [
    "- ranked searching -- best results returned first\n",
    "- many powerful query types: phrase queries, wildcard queries, proximity queries, range queries and more\n",
    "- fielded searching (e.g. title, author, contents)\n",
    "- nearest-neighbor search for high-dimensionality vectors\n",
    "- sorting by any field\n",
    "- multiple-index searching with merged results\n",
    "- allows simultaneous update and searching\n",
    "- flexible faceting, highlighting, joins and result grouping\n",
    "- fast, memory-efficient and typo-tolerant suggesters\n",
    "- pluggable ranking models, including the Vector Space Model and Okapi BM25\n",
    "- configurable storage engine (codecs)"
   ]
  },
  {
   "cell_type": "markdown",
   "id": "8d0a9ad5-5601-4c70-abef-05e33c194c4c",
   "metadata": {
    "slideshow": {
     "slide_type": "slide"
    },
    "tags": []
   },
   "source": [
    "## Index\n",
    "\n",
    "De grootste eenheid van gegevens in Elasticsearch\n",
    "\n",
    "Indices zijn logische partities van documenten en kunnen worden vergeleken met een database in de wereld van relationele databases."
   ]
  },
  {
   "cell_type": "markdown",
   "id": "6313de87-1e44-4bd6-9545-b8685819a204",
   "metadata": {
    "slideshow": {
     "slide_type": "subslide"
    },
    "tags": []
   },
   "source": [
    "## Shard\n",
    "\n",
    "Shards zijn een enkele Lucene index.\n",
    "\n",
    "Shards zijn de bouwstenen van Elasticsearch en maken schaalbaarheid mogelijk."
   ]
  },
  {
   "cell_type": "markdown",
   "id": "9fa01cf2-895c-40cd-b8a8-ae3c81aa479a",
   "metadata": {
    "slideshow": {
     "slide_type": "subslide"
    },
    "tags": []
   },
   "source": [
    "## Replica\n",
    "\n",
    "Replicas zijn kopieën van shards.\n",
    "\n",
    "Replicas accepteren ook leesverzoeken, dus het toevoegen van replicas kan helpen om de zoekprestaties te verbeteren."
   ]
  },
  {
   "cell_type": "markdown",
   "id": "b48e05ad-7899-4c73-81f6-3de6202240f8",
   "metadata": {
    "slideshow": {
     "slide_type": "notes"
    },
    "tags": []
   },
   "source": [
    "Om hoge beschikbaarheid te garanderen, worden replica's niet op dezelfde node geplaatst als de oorspronkelijke shards (de \"primary\" shard genoemd) van waaruit ze zijn gerepliceerd."
   ]
  },
  {
   "cell_type": "markdown",
   "id": "0b83ca01-c439-4fe4-b773-b999dffd850f",
   "metadata": {
    "slideshow": {
     "slide_type": "subslide"
    },
    "tags": []
   },
   "source": [
    "## Shard allocatie\n",
    "\n",
    "- primary\n",
    "- replica"
   ]
  },
  {
   "cell_type": "markdown",
   "id": "dd1d3f4b-557c-4ef9-aff3-461250a95f67",
   "metadata": {
    "slideshow": {
     "slide_type": "fragment"
    },
    "tags": []
   },
   "source": [
    "[Elastic Calculator](https://gbaptista.github.io/elastic-calculator/)"
   ]
  },
  {
   "cell_type": "markdown",
   "id": "9becc1a9-21df-45a8-bec6-975847ae5e0a",
   "metadata": {
    "slideshow": {
     "slide_type": "subslide"
    },
    "tags": []
   },
   "source": [
    "## Sharding strategie\n",
    "\n",
    "Afhankelijk van de use case :("
   ]
  },
  {
   "cell_type": "markdown",
   "id": "3f7d85cc-52a1-4677-a82e-3143afaf5c93",
   "metadata": {
    "slideshow": {
     "slide_type": "fragment"
    },
    "tags": []
   },
   "source": [
    "- Zoekopdrachten worden uitgevoerd op een enkele thread per shard (te veel shards en de threadpool raakt uitgeput)\n",
    "- Elke index en shard heeft overhead (en gebruikt JVM heap geheugen)\n",
    "- Elasticsearch balanceert automatisch shards binnen een *data tier* (hoeveel redundantie is nodig)"
   ]
  },
  {
   "cell_type": "markdown",
   "id": "47df53bf-7c18-4c94-91f0-ee44f7c6e6c5",
   "metadata": {
    "slideshow": {
     "slide_type": "subslide"
    },
    "tags": []
   },
   "source": [
    "## Sharding best practices\n",
    "\n",
    "Een paar overwegingen:\n",
    "\n",
    "- Verwijder indices, geen documenten (verwijderde documenten worden gemarkeerd als verwijderd en blijven geheugen gebruiken)\n",
    "- Streef naar shardgroottes tussen 10GB en 50GB (grotere shards hebben meer tijd nodig om te herstellen na een storing)\n",
    "- Streef naar 20 shards of minder per GB heapgeheugen (het aantal shards dat een node kan bevatten is evenredig met het heapgeheugen van het node)\n",
    "- Vermijd *hotspots* op nodes (onevenwichte verdeling van shards over nodes)"
   ]
  },
  {
   "cell_type": "markdown",
   "id": "9a2f1497-53bf-4fa9-951c-809d9d4b9bb3",
   "metadata": {
    "slideshow": {
     "slide_type": "subslide"
    },
    "tags": []
   },
   "source": [
    "## Nodes\n",
    "\n",
    "Nodes weten van alle andere nodes in het cluster en kunnen verzoeken van cliënten naar de juiste node doorsturen.\n",
    "\n",
    "Nodes hebben één of meerdere *rollen*, onder andere\n",
    "\n",
    "- `master`\n",
    "- `data`\n",
    "- `data_content`\n",
    "- `data_hot`\n",
    "- `ingest`\n",
    "- `ml`"
   ]
  },
  {
   "cell_type": "markdown",
   "id": "929ab631-c972-480d-89db-0420460bff4f",
   "metadata": {
    "slideshow": {
     "slide_type": "fragment"
    },
    "tags": []
   },
   "source": [
    "Elk cluster heeft de volgende node rollen nodig:\n",
    "\n",
    "- `master`\n",
    "- `data_content` en `data_hot`\n",
    "- OF `data`"
   ]
  },
  {
   "cell_type": "markdown",
   "id": "c2109471-f2fc-4a0b-91fc-8b633acf6130",
   "metadata": {
    "slideshow": {
     "slide_type": "subslide"
    },
    "tags": []
   },
   "source": [
    "### `master`\n",
    "\n",
    "*Master-eligible node*\n",
    "\n",
    "Een node die de masterrol heeft, waardoor het in aanmerking komt om te worden gekozen als het masternode, dat het cluster bestuurt."
   ]
  },
  {
   "cell_type": "markdown",
   "id": "ffeb6f73-84b8-488c-aff4-6f4294a65875",
   "metadata": {
    "slideshow": {
     "slide_type": "subslide"
    },
    "tags": []
   },
   "source": [
    "### `data`\n",
    "\n",
    "*Data node*\n",
    "\n",
    "Een node die de data rol heeft. Nodes bevatten gegevens en voeren gegevensgerelateerde operaties uit, zoals CRUD, zoeken en aggregaties. Een node met de data rol kan een van de gespecialiseerde data node rollen vervullen."
   ]
  },
  {
   "cell_type": "markdown",
   "id": "9caee329-9aa3-4c4c-9234-ee0e976c716b",
   "metadata": {
    "slideshow": {
     "slide_type": "subslide"
    },
    "tags": []
   },
   "source": [
    "### `data_node`\n",
    "\n",
    "*Content data node*\n",
    "\n",
    "Content tier nodes zijn gewoonlijk geoptimaliseerd voor query performance.\n",
    "\n",
    "Over het algemeen voor verzamelingen van items, zoals een productcatalogus of een artikelarchief.\n",
    "\n",
    "- waarde van de inhoud blijft in de loop van de tijd relatief constant\n",
    "- hebben typisch lange data retentie vereisten\n",
    "- items snel kunnen ophalen ongeacht hoe oud ze zijn\n",
    "\n",
    "Data nodes geven voorrang aan verwerkingskracht boven IO throughput, zodat ze complexe zoekopdrachten en aggregaties kunnen verwerken en snel resultaten kunnen teruggeven."
   ]
  },
  {
   "cell_type": "markdown",
   "id": "2e7d681d-0ba6-4d8d-8699-a2a8cac4f9e9",
   "metadata": {
    "slideshow": {
     "slide_type": "subslide"
    },
    "tags": []
   },
   "source": [
    "### `data_hot`\n",
    "\n",
    "*Hot data node*\n",
    "\n",
    "Hot tier nodes zijn gewoonlijk geoptimaliseerd voor snel lezen en schrijven\n",
    "\n",
    "Over het algemeen voor timeseries data.\n",
    "\n",
    "- bevat meest recente en meest frequent gezochte tijdreeks data\n",
    "\n",
    "Vereist meer hardware resources en snellere opslag (SSDs)."
   ]
  },
  {
   "cell_type": "markdown",
   "id": "d4729172-1e0b-4018-a771-833ee61cc67c",
   "metadata": {
    "slideshow": {
     "slide_type": "subslide"
    },
    "tags": []
   },
   "source": [
    "### Scatter / gather\n",
    "\n",
    "Een zoekopdracht wordt uitgevoerd in twee fasen die worden gecoördineerd door de node die het verzoek ontvangt - de *coordinating node*\n",
    "\n",
    "- in *scatter* fase wordt het verzoek doorgestuurd naar andere nodes\n",
    "- in *gather* fase worden resultaten verzameld\n",
    "\n",
    "Elke node is impliciet een coördinerende node.\n",
    "\n",
    "Een node *expliciet* zonder rollen zal alleen optreden als een coördinerende node. Een dergelijke node zal voldoende geheugen en CPU moeten hebben om de *gather* fase aan te kunnen."
   ]
  },
  {
   "cell_type": "markdown",
   "id": "69558327-8fd3-4e60-a9ea-9ea45accba51",
   "metadata": {
    "slideshow": {
     "slide_type": "subslide"
    },
    "tags": []
   },
   "source": [
    "## Cluster\n",
    "\n",
    "Een logische verzameling van nodes (that's it!)."
   ]
  }
 ],
 "metadata": {
  "kernelspec": {
   "display_name": "Python 3 (ipykernel)",
   "language": "python",
   "name": "python3"
  },
  "language_info": {
   "codemirror_mode": {
    "name": "ipython",
    "version": 3
   },
   "file_extension": ".py",
   "mimetype": "text/x-python",
   "name": "python",
   "nbconvert_exporter": "python",
   "pygments_lexer": "ipython3",
   "version": "3.10.0"
  }
 },
 "nbformat": 4,
 "nbformat_minor": 5
}
